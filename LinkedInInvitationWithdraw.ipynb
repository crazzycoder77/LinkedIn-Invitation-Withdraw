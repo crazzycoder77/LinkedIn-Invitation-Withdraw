{
 "cells": [
  {
   "cell_type": "code",
   "execution_count": 1,
   "metadata": {},
   "outputs": [],
   "source": [
    "from selenium import webdriver\n",
    "from selenium.webdriver.common.keys import Keys\n",
    "from selenium.webdriver.common.by import By \n",
    "##import time"
   ]
  },
  {
   "cell_type": "code",
   "execution_count": 2,
   "metadata": {},
   "outputs": [],
   "source": [
    "driver_location = r'D:\\chromedriver_win32\\chromedriver.exe'\n",
    "driver = webdriver.Chrome(driver_location)\n",
    "driver.get(\"https://www.linkedin.com/mynetwork/invitation-manager/sent/\")\n",
    "driver.find_element_by_link_text(\"Sign in\").click()\n"
   ]
  },
  {
   "cell_type": "code",
   "execution_count": 3,
   "metadata": {},
   "outputs": [],
   "source": [
    "def func(btn):\n",
    "    btn.click();\n",
    "    btns = driver.find_elements_by_xpath(\"//button[@class='artdeco-modal__confirm-dialog-btn artdeco-button artdeco-button--2 artdeco-button--primary ember-view']\")\n",
    "    btns[0].click()"
   ]
  },
  {
   "cell_type": "code",
   "execution_count": null,
   "metadata": {},
   "outputs": [],
   "source": [
    "buttons = driver.find_elements_by_xpath(\"//button[@data-control-name='withdraw_single']\")\n",
    "flag = False\n",
    "while(len(buttons)>0 or flag):\n",
    "    try:\n",
    "        if(not flag):\n",
    "            func(buttons[0])\n",
    "        buttons = driver.find_elements_by_xpath(\"//button[@data-control-name='withdraw_single']\")\n",
    "        flag=False\n",
    "    except:\n",
    "        buttons=[]\n",
    "        flag=True"
   ]
  },
  {
   "cell_type": "code",
   "execution_count": null,
   "metadata": {},
   "outputs": [],
   "source": []
  }
 ],
 "metadata": {
  "kernelspec": {
   "display_name": "Python 3",
   "language": "python",
   "name": "python3"
  },
  "language_info": {
   "codemirror_mode": {
    "name": "ipython",
    "version": 3
   },
   "file_extension": ".py",
   "mimetype": "text/x-python",
   "name": "python",
   "nbconvert_exporter": "python",
   "pygments_lexer": "ipython3",
   "version": "3.7.1"
  }
 },
 "nbformat": 4,
 "nbformat_minor": 2
}
