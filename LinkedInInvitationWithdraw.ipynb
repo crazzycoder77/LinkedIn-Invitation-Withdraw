{
 "cells": [
  {
   "cell_type": "code",
   "execution_count": 14,
   "metadata": {},
   "outputs": [],
   "source": [
    "from selenium import webdriver\n",
    "from selenium.webdriver.common.keys import Keys\n",
    "from selenium.webdriver.common.by import By "
   ]
  },
  {
   "cell_type": "code",
   "execution_count": 21,
   "metadata": {},
   "outputs": [],
   "source": [
    "driver = webdriver.Chrome(r'C:\\Users\\PRAVEEN\\Downloads\\chromedriver.exe')\n",
    "driver.get(\"https://www.linkedin.com/mynetwork/invitation-manager/sent/\")\n",
    "driver.find_element_by_link_text(\"Sign in\").click()\n"
   ]
  },
  {
   "cell_type": "code",
   "execution_count": 27,
   "metadata": {},
   "outputs": [],
   "source": [
    "buttons = driver.find_elements_by_xpath(\"//button[@data-control-name='withdraw_single']\")"
   ]
  },
  {
   "cell_type": "code",
   "execution_count": 28,
   "metadata": {},
   "outputs": [],
   "source": [
    "while(len(buttons)>0)\n",
    "    buttons[0].click();\n",
    "    btns = driver.find_elements_by_xpath(\"//button[@class='artdeco-modal__confirm-dialog-btn artdeco-button artdeco-button--2 artdeco-button--primary ember-view']\")\n",
    "    btns[0].click()\n",
    "    sleep\n",
    "    buttons = driver.find_elements_by_xpath(\"//button[@data-control-name='withdraw_single']\")"
   ]
  },
  {
   "cell_type": "code",
   "execution_count": null,
   "metadata": {},
   "outputs": [],
   "source": []
  }
 ],
 "metadata": {
  "kernelspec": {
   "display_name": "Python 3",
   "language": "python",
   "name": "python3"
  },
  "language_info": {
   "codemirror_mode": {
    "name": "ipython",
    "version": 3
   },
   "file_extension": ".py",
   "mimetype": "text/x-python",
   "name": "python",
   "nbconvert_exporter": "python",
   "pygments_lexer": "ipython3",
   "version": "3.5.5"
  }
 },
 "nbformat": 4,
 "nbformat_minor": 2
}
